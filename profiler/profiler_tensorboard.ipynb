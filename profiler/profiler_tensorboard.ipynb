{
 "cells": [
  {
   "cell_type": "markdown",
   "metadata": {},
   "source": [
    "# Pytorch Profiler with Tensorboard\n",
    "\n",
    "Probably better to run this locally, as I am not sure how you can start a profiler server from colab.\n",
    "\n",
    "Need to also have this installed:\n",
    "```sh\n",
    "pip install torch_tb_profiler\n",
    "```\n",
    "\n",
    "Sources:\n",
    "- https://pytorch.org/tutorials/intermediate/tensorboard_profiler_tutorial.html"
   ]
  },
  {
   "cell_type": "code",
   "execution_count": 1,
   "metadata": {},
   "outputs": [
    {
     "name": "stderr",
     "output_type": "stream",
     "text": [
      "/Users/vascomeerman/miniforge3/envs/ldm/lib/python3.10/site-packages/tqdm/auto.py:22: TqdmWarning: IProgress not found. Please update jupyter and ipywidgets. See https://ipywidgets.readthedocs.io/en/stable/user_install.html\n",
      "  from .autonotebook import tqdm as notebook_tqdm\n"
     ]
    }
   ],
   "source": [
    "import torch\n",
    "import torch.nn\n",
    "import torch.optim\n",
    "import torch.profiler\n",
    "import torch.utils.data\n",
    "import torchvision.datasets\n",
    "import torchvision.models\n",
    "import torchvision.transforms as T"
   ]
  },
  {
   "cell_type": "markdown",
   "metadata": {},
   "source": [
    "Then prepare the input data. For this tutorial, we use the CIFAR10 dataset. Transform it to the desired format and use DataLoader to load each batch.\n",
    "\n"
   ]
  },
  {
   "cell_type": "code",
   "execution_count": 2,
   "metadata": {},
   "outputs": [
    {
     "name": "stdout",
     "output_type": "stream",
     "text": [
      "Downloading https://www.cs.toronto.edu/~kriz/cifar-10-python.tar.gz to ./data/cifar-10-python.tar.gz\n"
     ]
    },
    {
     "name": "stderr",
     "output_type": "stream",
     "text": [
      "100%|██████████| 170498071/170498071 [04:24<00:00, 644135.54it/s] \n"
     ]
    },
    {
     "name": "stdout",
     "output_type": "stream",
     "text": [
      "Extracting ./data/cifar-10-python.tar.gz to ./data\n"
     ]
    }
   ],
   "source": [
    "transform = T.Compose(\n",
    "    [T.Resize(224),\n",
    "     T.ToTensor(),\n",
    "     T.Normalize((0.5, 0.5, 0.5), (0.5, 0.5, 0.5))])\n",
    "train_set = torchvision.datasets.CIFAR10(root='./data', train=True, download=True, transform=transform)\n",
    "train_loader = torch.utils.data.DataLoader(train_set, batch_size=32, shuffle=True)"
   ]
  },
  {
   "cell_type": "markdown",
   "metadata": {},
   "source": [
    "Next, create Resnet model, loss function, and optimizer objects. To run on GPU, move model and loss to GPU device.\n",
    "\n"
   ]
  },
  {
   "cell_type": "code",
   "execution_count": 3,
   "metadata": {},
   "outputs": [],
   "source": [
    "# Device configuration\n",
    "def get_device():\n",
    "    if torch.cuda.is_available():\n",
    "        return torch.device('cuda')\n",
    "    elif torch.backends.mps.is_available():\n",
    "        return torch.device('mps')\n",
    "    else:\n",
    "        return torch.device('cpu')\n",
    "\n",
    "device = get_device()"
   ]
  },
  {
   "cell_type": "code",
   "execution_count": 4,
   "metadata": {},
   "outputs": [
    {
     "name": "stderr",
     "output_type": "stream",
     "text": [
      "/Users/vascomeerman/miniforge3/envs/ldm/lib/python3.10/site-packages/torchvision/models/_utils.py:208: UserWarning: The parameter 'pretrained' is deprecated since 0.13 and may be removed in the future, please use 'weights' instead.\n",
      "  warnings.warn(\n",
      "/Users/vascomeerman/miniforge3/envs/ldm/lib/python3.10/site-packages/torchvision/models/_utils.py:223: UserWarning: Arguments other than a weight enum or `None` for 'weights' are deprecated since 0.13 and may be removed in the future. The current behavior is equivalent to passing `weights=ResNet18_Weights.IMAGENET1K_V1`. You can also use `weights=ResNet18_Weights.DEFAULT` to get the most up-to-date weights.\n",
      "  warnings.warn(msg)\n",
      "Downloading: \"https://download.pytorch.org/models/resnet18-f37072fd.pth\" to /Users/vascomeerman/.cache/torch/hub/checkpoints/resnet18-f37072fd.pth\n",
      "100%|██████████| 44.7M/44.7M [00:19<00:00, 2.40MB/s]\n"
     ]
    },
    {
     "data": {
      "text/plain": [
       "ResNet(\n",
       "  (conv1): Conv2d(3, 64, kernel_size=(7, 7), stride=(2, 2), padding=(3, 3), bias=False)\n",
       "  (bn1): BatchNorm2d(64, eps=1e-05, momentum=0.1, affine=True, track_running_stats=True)\n",
       "  (relu): ReLU(inplace=True)\n",
       "  (maxpool): MaxPool2d(kernel_size=3, stride=2, padding=1, dilation=1, ceil_mode=False)\n",
       "  (layer1): Sequential(\n",
       "    (0): BasicBlock(\n",
       "      (conv1): Conv2d(64, 64, kernel_size=(3, 3), stride=(1, 1), padding=(1, 1), bias=False)\n",
       "      (bn1): BatchNorm2d(64, eps=1e-05, momentum=0.1, affine=True, track_running_stats=True)\n",
       "      (relu): ReLU(inplace=True)\n",
       "      (conv2): Conv2d(64, 64, kernel_size=(3, 3), stride=(1, 1), padding=(1, 1), bias=False)\n",
       "      (bn2): BatchNorm2d(64, eps=1e-05, momentum=0.1, affine=True, track_running_stats=True)\n",
       "    )\n",
       "    (1): BasicBlock(\n",
       "      (conv1): Conv2d(64, 64, kernel_size=(3, 3), stride=(1, 1), padding=(1, 1), bias=False)\n",
       "      (bn1): BatchNorm2d(64, eps=1e-05, momentum=0.1, affine=True, track_running_stats=True)\n",
       "      (relu): ReLU(inplace=True)\n",
       "      (conv2): Conv2d(64, 64, kernel_size=(3, 3), stride=(1, 1), padding=(1, 1), bias=False)\n",
       "      (bn2): BatchNorm2d(64, eps=1e-05, momentum=0.1, affine=True, track_running_stats=True)\n",
       "    )\n",
       "  )\n",
       "  (layer2): Sequential(\n",
       "    (0): BasicBlock(\n",
       "      (conv1): Conv2d(64, 128, kernel_size=(3, 3), stride=(2, 2), padding=(1, 1), bias=False)\n",
       "      (bn1): BatchNorm2d(128, eps=1e-05, momentum=0.1, affine=True, track_running_stats=True)\n",
       "      (relu): ReLU(inplace=True)\n",
       "      (conv2): Conv2d(128, 128, kernel_size=(3, 3), stride=(1, 1), padding=(1, 1), bias=False)\n",
       "      (bn2): BatchNorm2d(128, eps=1e-05, momentum=0.1, affine=True, track_running_stats=True)\n",
       "      (downsample): Sequential(\n",
       "        (0): Conv2d(64, 128, kernel_size=(1, 1), stride=(2, 2), bias=False)\n",
       "        (1): BatchNorm2d(128, eps=1e-05, momentum=0.1, affine=True, track_running_stats=True)\n",
       "      )\n",
       "    )\n",
       "    (1): BasicBlock(\n",
       "      (conv1): Conv2d(128, 128, kernel_size=(3, 3), stride=(1, 1), padding=(1, 1), bias=False)\n",
       "      (bn1): BatchNorm2d(128, eps=1e-05, momentum=0.1, affine=True, track_running_stats=True)\n",
       "      (relu): ReLU(inplace=True)\n",
       "      (conv2): Conv2d(128, 128, kernel_size=(3, 3), stride=(1, 1), padding=(1, 1), bias=False)\n",
       "      (bn2): BatchNorm2d(128, eps=1e-05, momentum=0.1, affine=True, track_running_stats=True)\n",
       "    )\n",
       "  )\n",
       "  (layer3): Sequential(\n",
       "    (0): BasicBlock(\n",
       "      (conv1): Conv2d(128, 256, kernel_size=(3, 3), stride=(2, 2), padding=(1, 1), bias=False)\n",
       "      (bn1): BatchNorm2d(256, eps=1e-05, momentum=0.1, affine=True, track_running_stats=True)\n",
       "      (relu): ReLU(inplace=True)\n",
       "      (conv2): Conv2d(256, 256, kernel_size=(3, 3), stride=(1, 1), padding=(1, 1), bias=False)\n",
       "      (bn2): BatchNorm2d(256, eps=1e-05, momentum=0.1, affine=True, track_running_stats=True)\n",
       "      (downsample): Sequential(\n",
       "        (0): Conv2d(128, 256, kernel_size=(1, 1), stride=(2, 2), bias=False)\n",
       "        (1): BatchNorm2d(256, eps=1e-05, momentum=0.1, affine=True, track_running_stats=True)\n",
       "      )\n",
       "    )\n",
       "    (1): BasicBlock(\n",
       "      (conv1): Conv2d(256, 256, kernel_size=(3, 3), stride=(1, 1), padding=(1, 1), bias=False)\n",
       "      (bn1): BatchNorm2d(256, eps=1e-05, momentum=0.1, affine=True, track_running_stats=True)\n",
       "      (relu): ReLU(inplace=True)\n",
       "      (conv2): Conv2d(256, 256, kernel_size=(3, 3), stride=(1, 1), padding=(1, 1), bias=False)\n",
       "      (bn2): BatchNorm2d(256, eps=1e-05, momentum=0.1, affine=True, track_running_stats=True)\n",
       "    )\n",
       "  )\n",
       "  (layer4): Sequential(\n",
       "    (0): BasicBlock(\n",
       "      (conv1): Conv2d(256, 512, kernel_size=(3, 3), stride=(2, 2), padding=(1, 1), bias=False)\n",
       "      (bn1): BatchNorm2d(512, eps=1e-05, momentum=0.1, affine=True, track_running_stats=True)\n",
       "      (relu): ReLU(inplace=True)\n",
       "      (conv2): Conv2d(512, 512, kernel_size=(3, 3), stride=(1, 1), padding=(1, 1), bias=False)\n",
       "      (bn2): BatchNorm2d(512, eps=1e-05, momentum=0.1, affine=True, track_running_stats=True)\n",
       "      (downsample): Sequential(\n",
       "        (0): Conv2d(256, 512, kernel_size=(1, 1), stride=(2, 2), bias=False)\n",
       "        (1): BatchNorm2d(512, eps=1e-05, momentum=0.1, affine=True, track_running_stats=True)\n",
       "      )\n",
       "    )\n",
       "    (1): BasicBlock(\n",
       "      (conv1): Conv2d(512, 512, kernel_size=(3, 3), stride=(1, 1), padding=(1, 1), bias=False)\n",
       "      (bn1): BatchNorm2d(512, eps=1e-05, momentum=0.1, affine=True, track_running_stats=True)\n",
       "      (relu): ReLU(inplace=True)\n",
       "      (conv2): Conv2d(512, 512, kernel_size=(3, 3), stride=(1, 1), padding=(1, 1), bias=False)\n",
       "      (bn2): BatchNorm2d(512, eps=1e-05, momentum=0.1, affine=True, track_running_stats=True)\n",
       "    )\n",
       "  )\n",
       "  (avgpool): AdaptiveAvgPool2d(output_size=(1, 1))\n",
       "  (fc): Linear(in_features=512, out_features=1000, bias=True)\n",
       ")"
      ]
     },
     "execution_count": 4,
     "metadata": {},
     "output_type": "execute_result"
    }
   ],
   "source": [
    "# Load a pre-trained resnet18 \n",
    "model = torchvision.models.resnet18(pretrained=True).to(device)\n",
    "\n",
    "# References to the loss and optimizer that is used by the model\n",
    "criterion = torch.nn.CrossEntropyLoss().to(device)\n",
    "optimizer = torch.optim.SGD(model.parameters(), lr=0.001, momentum=0.9)\n",
    "\n",
    "# Train the model \n",
    "model.train()"
   ]
  },
  {
   "cell_type": "code",
   "execution_count": 7,
   "metadata": {},
   "outputs": [],
   "source": [
    "# Training step for each batch of data\n",
    "def train(data):\n",
    "    inputs, labels = data[0].to(device=device), data[1].to(device=device)\n",
    "    outputs = model(inputs)\n",
    "    loss = criterion(outputs, labels)\n",
    "    optimizer.zero_grad()\n",
    "    loss.backward()\n",
    "    optimizer.step()"
   ]
  },
  {
   "cell_type": "markdown",
   "metadata": {},
   "source": [
    "### Use profiler to record execution events\n",
    "\n",
    "The profiler is enabled through the context manager and accepts several parameters,\n",
    "some of the most useful are:\n",
    "\n",
    "- ``schedule`` - callable that takes step (int) as a single parameter\n",
    "  and returns the profiler action to perform at each step.\n",
    "\n",
    "  In this example with ``wait=1, warmup=1, active=3, repeat=2``,\n",
    "  profiler will skip the first step/iteration,\n",
    "  start warming up on the second,\n",
    "  record the following three iterations,\n",
    "  after which the trace will become available and on_trace_ready (when set) is called.\n",
    "  In total, the cycle repeats twice. Each cycle is called a \"span\" in TensorBoard plugin.\n",
    "\n",
    "  During ``wait`` steps, the profiler is disabled.\n",
    "  During ``warmup`` steps, the profiler starts tracing but the results are discarded.\n",
    "  This is for reducing the profiling overhead.\n",
    "  The overhead at the beginning of profiling is high and easy to bring skew to the profiling result.\n",
    "  During ``active`` steps, the profiler works and records events.\n",
    "- ``on_trace_ready`` - callable that is called at the end of each cycle;\n",
    "  In this example we use ``torch.profiler.tensorboard_trace_handler`` to generate result files for TensorBoard.\n",
    "  After profiling, result files will be saved into the ``./log/resnet18`` directory.\n",
    "  Specify this directory as a ``logdir`` parameter to analyze profile in TensorBoard.\n",
    "- ``record_shapes`` - whether to record shapes of the operator inputs.\n",
    "- ``profile_memory`` - Track tensor memory allocation/deallocation. Note, for old version of pytorch with version\n",
    "  before 1.10, if you suffer long profiling time, please disable it or upgrade to new version.\n",
    "- ``with_stack`` - Record source information (file and line number) for the ops.\n",
    "  If the TensorBoard is launched in VSCode ([reference](https://code.visualstudio.com/docs/datascience/pytorch-support#_tensorboard-integration)),\n",
    "  clicking a stack frame will navigate to the specific code line."
   ]
  },
  {
   "cell_type": "code",
   "execution_count": 8,
   "metadata": {},
   "outputs": [],
   "source": [
    "# Schedule to use:\n",
    "# wait=1 -> when the profiler is not active\n",
    "# warmup=1 -> This is when the phas profiler starts tracing, but results are disregarded\n",
    "# active=3 -> During this phase profiler traces AND records the data\n",
    "# repeat=2 -> Specifies the upper bound on th number of cycles, called a \"span\" in tensorboard\n",
    "schedule = torch.profiler.schedule(wait=1, warmup=1, active=3, repeat=2)"
   ]
  },
  {
   "cell_type": "code",
   "execution_count": 9,
   "metadata": {},
   "outputs": [
    {
     "name": "stderr",
     "output_type": "stream",
     "text": [
      "STAGE:2022-12-07 16:18:07 68450:16419090 ActivityProfilerController.cpp:294] Completed Stage: Warm Up\n",
      "[W CPUAllocator.cpp:231] Memory block of unknown size was allocated before the profiling started, profiler results will not include the deallocation event\n",
      "STAGE:2022-12-07 16:18:08 68450:16419090 ActivityProfilerController.cpp:300] Completed Stage: Collection\n",
      "STAGE:2022-12-07 16:18:09 68450:16419090 output_json.cpp:417] Completed Stage: Post Processing\n",
      "STAGE:2022-12-07 16:18:10 68450:16419090 ActivityProfilerController.cpp:294] Completed Stage: Warm Up\n",
      "STAGE:2022-12-07 16:18:11 68450:16419090 ActivityProfilerController.cpp:300] Completed Stage: Collection\n",
      "STAGE:2022-12-07 16:18:13 68450:16419090 output_json.cpp:417] Completed Stage: Post Processing\n"
     ]
    }
   ],
   "source": [
    "# The record_function context manager a 'code range' that is being tracked\n",
    "# You can create multiple of these 'ranges' which will be tracked in parralel\n",
    "with torch.profiler.profile(\n",
    "        schedule=schedule,\n",
    "        on_trace_ready=torch.profiler.tensorboard_trace_handler('./log/resnet18'),\n",
    "        record_shapes=True, # Record shapes of operator inputs\n",
    "        profile_memory=True, # Also log memory consumed by the tensors\n",
    "        with_stack=True # Shows the stacktrace for the code of an operation\n",
    ") as prof:\n",
    "    # Loop through the batches in our training dataset\n",
    "    for step, batch_data in enumerate(train_loader):\n",
    "        \n",
    "        # Any step outside the scheduled region will be ignored\n",
    "        if step >= (1 + 1 + 3) * 2:\n",
    "            break\n",
    "        \n",
    "        # Call out train function\n",
    "        train(batch_data)\n",
    "        \n",
    "        # profiler.step sends a signal to the profiler that next step has started\n",
    "        # Current step is stored as profile.step_num\n",
    "        prof.step() "
   ]
  },
  {
   "cell_type": "markdown",
   "metadata": {},
   "source": [
    "Alternativly, you can do the same thing withouth a contextmanage:\n",
    "\n",
    "```\n",
    "prof = torch.profiler.profile(\n",
    "        schedule=torch.profiler.schedule(wait=1, warmup=1, active=3, repeat=2),\n",
    "        on_trace_ready=torch.profiler.tensorboard_trace_handler('./log/resnet18'),\n",
    "        record_shapes=True,\n",
    "        with_stack=True)\n",
    "prof.start()\n",
    "for step, batch_data in enumerate(train_loader):\n",
    "    if step >= (1 + 1 + 3) * 2:\n",
    "        break\n",
    "    train(batch_data)\n",
    "    prof.step()\n",
    "prof.stop()\n",
    "```"
   ]
  },
  {
   "cell_type": "code",
   "execution_count": null,
   "metadata": {},
   "outputs": [],
   "source": []
  }
 ],
 "metadata": {
  "kernelspec": {
   "display_name": "Python 3.10.4 ('ldm')",
   "language": "python",
   "name": "python3"
  },
  "language_info": {
   "codemirror_mode": {
    "name": "ipython",
    "version": 3
   },
   "file_extension": ".py",
   "mimetype": "text/x-python",
   "name": "python",
   "nbconvert_exporter": "python",
   "pygments_lexer": "ipython3",
   "version": "3.10.8"
  },
  "orig_nbformat": 4,
  "vscode": {
   "interpreter": {
    "hash": "463c2b245ce7e6dc33c5f775f4732a1d4046139a314551395d57d6fe9844923f"
   }
  }
 },
 "nbformat": 4,
 "nbformat_minor": 2
}
